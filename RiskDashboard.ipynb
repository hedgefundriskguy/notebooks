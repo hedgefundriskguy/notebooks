{
 "cells": [
  {
   "cell_type": "markdown",
   "metadata": {},
   "source": [
    "<H1>Risk Dashboard</H1>\n",
    "This example shows some tools that can be used to monitor risk limits of an actual traded portfolio. The example is based on a CTA (Commodity Hedge fund ) portfolio."
   ]
  },
  {
   "cell_type": "code",
   "execution_count": 1,
   "metadata": {
    "collapsed": false
   },
   "outputs": [],
   "source": [
    "\"\"\"\n",
    "    Import Libraries\n",
    "\"\"\"\n",
    "import numpy as np\n",
    "import pandas as pd\n",
    "import scipy.stats as stats\n",
    "import statsmodels.api as sm \n",
    "import matplotlib.pyplot as plt\n",
    "import pylab as pl\n",
    "import seaborn as sns\n",
    "from IPython.display import display, HTML\n",
    "import XIgniteLib as xf\n",
    "mktData = xf.MarketData()\n",
    "%matplotlib inline"
   ]
  },
  {
   "cell_type": "markdown",
   "metadata": {},
   "source": [
    "<H2>Reading Data</H2><P>\n",
    "We read a sample CTA portfolio that consist of a number of future contracts. We do not specify month and year maturity of each contract in order to keep the example consistent through time. Instead we use on the run futures for each contract. \n",
    "\n",
    "Since XIGnite is a paid service we only perform the data request once. The XIgnite module included here shows sample code but obviouslu does not show credentials for loging into XIGnite data service. Please visit <a href=\"http://www.xignite.com\">XIgnite</a> for more information\n"
   ]
  },
  {
   "cell_type": "code",
   "execution_count": 2,
   "metadata": {
    "collapsed": true
   },
   "outputs": [],
   "source": [
    "port = pd.DataFrame.from_csv(\"data/ctaport2.csv\")\n",
    "contracts = port.index"
   ]
  },
  {
   "cell_type": "code",
   "execution_count": 3,
   "metadata": {
    "collapsed": false
   },
   "outputs": [],
   "source": [
    "for ticker in contracts:\n",
    "    s = mktData.get_next_future(ticker)\n",
    "    if (s['Outcome'] == 'Success'):\n",
    "        port.loc[ticker,'Price'] = 0\n",
    "        port.loc[ticker,'MarketValue'] = 0\n",
    "        quote = mktData.get_future_quote(ticker,s['Month'],s['Year'])\n",
    "        if quote['Outcome'] == 'Success':\n",
    "            pr = quote['Last']  \n",
    "            port.loc[ticker,'Price'] = pr\n",
    "            mktvalue = port.loc[ticker,'Point Value'] * port.loc[ticker,'Shares'] * pr\n",
    "            port.loc[ticker,'MarketValue'] = mktvalue\n",
    "            port.loc[ticker,'GrossValue'] = np.abs(mktvalue)\n",
    "            port.loc[ticker,'PctChange'] = quote['PercentChange'] * 0.01\n",
    "            port.loc[ticker,'PrevClose'] = quote['PreviousClose']\n",
    "            shares = port.loc[ticker,'Shares']\n",
    "            if (shares > 0):\n",
    "                port.loc[ticker,'WorstMove'] = port.loc[ticker,'Min']\n",
    "            else:\n",
    "                port.loc[ticker,'WorstMove'] = port.loc[ticker,'Max']\n",
    "        else:\n",
    "            port.loc[ticker,'Price'] = 0"
   ]
  },
  {
   "cell_type": "markdown",
   "metadata": {},
   "source": [
    "<H2>Determining position limits</H2>\n",
    "<P>\n",
    "For this example we assume that the fund has 3% fo NAV limit for a loss in each contract. We therefore determine the current limit and number of availanble contracts that the fund can still allocate to. \n",
    "</P>\n",
    "<P>\n",
    "One way to do that is to determine the Expected Max Loss (E(L)) based on historical worst movement in the contract (W). W is dependent on the sign of the position. If the fund is long a contract then the W is defined by the highest daily loss. If the fund is short the contract then W is defined by the highest daily gain. \n",
    "</P>\n",
    "<img src=\"https://dl.dropbox.com/s/242k4mszbtps7md/formula.png?dl=0\"/>\n",
    "<br>\n",
    "For each contract in the portfolio we, therefore, calculate Maximum number of allowed contracts and Expected Loss given current number of contracts held. In the example portfolio we clear see several violations"
   ]
  },
  {
   "cell_type": "markdown",
   "metadata": {},
   "source": [
    "#Calculate Maximum \n",
    "A = 100000000\n",
    "L = 0.03\n",
    "port['MaxContracts'] = A*L/(port['Point Value']*port['Price']* port['WorstMove'] *-1)\n",
    "port['E(L)'] = port['Shares']*port['Price']*port['Point Value']*port['WorstMove']*-1/A                    \n",
    "\n"
   ]
  },
  {
   "cell_type": "code",
   "execution_count": 7,
   "metadata": {
    "collapsed": true
   },
   "outputs": [],
   "source": [
    "#Calculate Maximum \n",
    "A = 100000000 #AUM\n",
    "L = 0.03 #Max Loss\n",
    "port['MaxContracts'] = A*L/(port['Point Value']*port['Price']* port['WorstMove'] *-1)\n",
    "port['E(L)'] = port['Shares']*port['Price']*port['Point Value']*port['WorstMove']*-1/A                    \n"
   ]
  },
  {
   "cell_type": "markdown",
   "metadata": {},
   "source": [
    "<h3>Display Portfolio Limist for each contract</h3>"
   ]
  },
  {
   "cell_type": "code",
   "execution_count": 8,
   "metadata": {
    "collapsed": false
   },
   "outputs": [
    {
     "data": {
      "text/html": [
       "<div>\n",
       "<table border=\"1\" class=\"dataframe\">\n",
       "  <thead>\n",
       "    <tr style=\"text-align: right;\">\n",
       "      <th></th>\n",
       "      <th>Name</th>\n",
       "      <th>Type</th>\n",
       "      <th>Shares</th>\n",
       "      <th>MaxContracts</th>\n",
       "      <th>Price</th>\n",
       "      <th>MarketValue</th>\n",
       "      <th>E(L)</th>\n",
       "    </tr>\n",
       "    <tr>\n",
       "      <th>Contract</th>\n",
       "      <th></th>\n",
       "      <th></th>\n",
       "      <th></th>\n",
       "      <th></th>\n",
       "      <th></th>\n",
       "      <th></th>\n",
       "      <th></th>\n",
       "    </tr>\n",
       "  </thead>\n",
       "  <tbody>\n",
       "    <tr>\n",
       "      <th>CL</th>\n",
       "      <td>Crude Oil</td>\n",
       "      <td>ENGY</td>\n",
       "      <td>300</td>\n",
       "      <td>360.912732</td>\n",
       "      <td>45.790</td>\n",
       "      <td>13737000.0</td>\n",
       "      <td>0.024937</td>\n",
       "    </tr>\n",
       "    <tr>\n",
       "      <th>NG</th>\n",
       "      <td>Natural Gas</td>\n",
       "      <td>ENGY</td>\n",
       "      <td>-7000</td>\n",
       "      <td>-7157.171486</td>\n",
       "      <td>2.994</td>\n",
       "      <td>-2095800.0</td>\n",
       "      <td>0.029341</td>\n",
       "    </tr>\n",
       "    <tr>\n",
       "      <th>SP</th>\n",
       "      <td>S&amp;P 500 Index</td>\n",
       "      <td>STOCK</td>\n",
       "      <td>-38</td>\n",
       "      <td>-47.791792</td>\n",
       "      <td>2168.300</td>\n",
       "      <td>-20598850.0</td>\n",
       "      <td>0.023853</td>\n",
       "    </tr>\n",
       "    <tr>\n",
       "      <th>GD</th>\n",
       "      <td>S&amp;P GSCI</td>\n",
       "      <td>STOCK</td>\n",
       "      <td>110</td>\n",
       "      <td>491.455735</td>\n",
       "      <td>358.550</td>\n",
       "      <td>9860125.0</td>\n",
       "      <td>0.006715</td>\n",
       "    </tr>\n",
       "    <tr>\n",
       "      <th>GC</th>\n",
       "      <td>Gold</td>\n",
       "      <td>Metals</td>\n",
       "      <td>-212</td>\n",
       "      <td>-206.871048</td>\n",
       "      <td>1340.400</td>\n",
       "      <td>-28416480.0</td>\n",
       "      <td>0.030744</td>\n",
       "    </tr>\n",
       "    <tr>\n",
       "      <th>SI</th>\n",
       "      <td>Silver</td>\n",
       "      <td>Metals</td>\n",
       "      <td>120</td>\n",
       "      <td>174.143114</td>\n",
       "      <td>20.020</td>\n",
       "      <td>12012000.0</td>\n",
       "      <td>0.020673</td>\n",
       "    </tr>\n",
       "    <tr>\n",
       "      <th>KC</th>\n",
       "      <td>Coffee</td>\n",
       "      <td>AGG</td>\n",
       "      <td>550</td>\n",
       "      <td>267.423274</td>\n",
       "      <td>155.250</td>\n",
       "      <td>32020312.5</td>\n",
       "      <td>0.061700</td>\n",
       "    </tr>\n",
       "    <tr>\n",
       "      <th>SB</th>\n",
       "      <td>Sugar</td>\n",
       "      <td>AGG</td>\n",
       "      <td>950</td>\n",
       "      <td>691.306520</td>\n",
       "      <td>22.170</td>\n",
       "      <td>23588880.0</td>\n",
       "      <td>0.041226</td>\n",
       "    </tr>\n",
       "  </tbody>\n",
       "</table>\n",
       "</div>"
      ],
      "text/plain": [
       "                   Name    Type  Shares  MaxContracts     Price  MarketValue  \\\n",
       "Contract                                                                       \n",
       "CL            Crude Oil    ENGY     300    360.912732    45.790   13737000.0   \n",
       "NG          Natural Gas    ENGY   -7000  -7157.171486     2.994   -2095800.0   \n",
       "SP        S&P 500 Index   STOCK     -38    -47.791792  2168.300  -20598850.0   \n",
       "GD             S&P GSCI   STOCK     110    491.455735   358.550    9860125.0   \n",
       "GC                 Gold  Metals    -212   -206.871048  1340.400  -28416480.0   \n",
       "SI               Silver  Metals     120    174.143114    20.020   12012000.0   \n",
       "KC               Coffee     AGG     550    267.423274   155.250   32020312.5   \n",
       "SB                Sugar     AGG     950    691.306520    22.170   23588880.0   \n",
       "\n",
       "              E(L)  \n",
       "Contract            \n",
       "CL        0.024937  \n",
       "NG        0.029341  \n",
       "SP        0.023853  \n",
       "GD        0.006715  \n",
       "GC        0.030744  \n",
       "SI        0.020673  \n",
       "KC        0.061700  \n",
       "SB        0.041226  "
      ]
     },
     "execution_count": 8,
     "metadata": {},
     "output_type": "execute_result"
    }
   ],
   "source": [
    "port[['Name','Type','Shares','MaxContracts','Price','MarketValue','E(L)']]"
   ]
  },
  {
   "cell_type": "markdown",
   "metadata": {},
   "source": [
    "<h3>Visualize Risk Limits</H3>\n",
    "<article>The following charts show the current positions in each contract as well as number of availble contracts that can be allocated (if any)</article>"
   ]
  },
  {
   "cell_type": "code",
   "execution_count": 12,
   "metadata": {
    "collapsed": false
   },
   "outputs": [
    {
     "data": {
      "text/plain": [
       "<matplotlib.legend.Legend at 0x11cc63278>"
      ]
     },
     "execution_count": 12,
     "metadata": {},
     "output_type": "execute_result"
    },
    {
     "data": {
      "image/png": "[encoded data removed]",
      "text/plain": [
       "<matplotlib.figure.Figure at 0x11d005e10>"
      ]
     },
     "metadata": {},
     "output_type": "display_data"
    },
    {
     "data": {
      "image/png": "[encoded data removed]",
      "text/plain": [
       "<matplotlib.figure.Figure at 0x11a6134a8>"
      ]
     },
     "metadata": {},
     "output_type": "display_data"
    }
   ],
   "source": [
    "plt.figure(figsize=(10,3))\n",
    "width = 0.35 \n",
    "N = len(port)\n",
    "plt.bar(np.arange(N),port['E(L)'],width)\n",
    "plt.plot(np.arange(N+1),np.ones(N+1)*0.03,'r')\n",
    "plt.title('Expected Loss vs. Allowed')\n",
    "plt.xticks(np.arange(N)+width/2,port.index)\n",
    "plt.figure(figsize=(10,3))\n",
    "usedalloc = port['Shares']/port['MaxContracts'].values\n",
    "unusedalloc = [1-u if u < 1 else 0 for u in usedalloc]  \n",
    "p1 = plt.bar(np.arange(N),usedalloc,width,color='r')\n",
    "p2 = plt.bar(np.arange(N),unusedalloc,width,bottom=usedalloc,color='g')\n",
    "plt.title('Available Allocation by Contract')\n",
    "plt.xticks(np.arange(N)+width/2,port.index)\n",
    "plt.legend((p1[0],p2[0]),('Allocated','Available'))"
   ]
  },
  {
   "cell_type": "markdown",
   "metadata": {},
   "source": [
    "<i>The fund can no longer allocate capital to Natural Gas (NG),  Gold (GC), Coffee (KC) and Sugar (SB) contracts</i>"
   ]
  },
  {
   "cell_type": "markdown",
   "metadata": {},
   "source": [
    "<H2>Value at Risk / Size of Daily Moves</H2>\n",
    "We calculated VaR based on the daily moves of the last 100 days. The VaR for each contract reported here is static. It can, of course, be updated daily but since market data is not free we are using static data for demonstration purposes. \n",
    "<br>\n",
    "The following chart shows daily move in each contract and plots the movement. The red line shows VaR. The yellow line shows the absolute value of VaR and is shown here as possible flag to indicate large abnormal moves."
   ]
  },
  {
   "cell_type": "code",
   "execution_count": 14,
   "metadata": {
    "collapsed": false
   },
   "outputs": [
    {
     "data": {
      "text/plain": [
       "<matplotlib.legend.Legend at 0x11d3e9da0>"
      ]
     },
     "execution_count": 14,
     "metadata": {},
     "output_type": "execute_result"
    },
    {
     "data": {
      "image/png": "[encoded data removed]",
      "text/plain": [
       "<matplotlib.figure.Figure at 0x11d341128>"
      ]
     },
     "metadata": {},
     "output_type": "display_data"
    }
   ],
   "source": [
    "plt.figure(figsize=(10,3))\n",
    "p1 = plt.bar(np.arange(N),port['PctChange'],width)\n",
    "p2 = plt.plot(np.arange(N)+width*0.5,port['VaR'],color='r')\n",
    "p3 = plt.plot(np.arange(N)+width*0.5,np.abs(port['VaR']),color='y')\n",
    "\n",
    "\n",
    "plt.title('Daily Change vs. VaR')\n",
    "\n",
    "plt.legend((p1[0],p2[0],p3[0]),('% Change','Contract VaR','Positve Limit'))"
   ]
  },
  {
   "cell_type": "code",
   "execution_count": null,
   "metadata": {
    "collapsed": true
   },
   "outputs": [],
   "source": []
  }
 ],
 "metadata": {
  "anaconda-cloud": {},
  "kernelspec": {
   "display_name": "Python [Root]",
   "language": "python",
   "name": "Python [Root]"
  },
  "language_info": {
   "codemirror_mode": {
    "name": "ipython",
    "version": 3
   },
   "file_extension": ".py",
   "mimetype": "text/x-python",
   "name": "python",
   "nbconvert_exporter": "python",
   "pygments_lexer": "ipython3",
   "version": "3.5.2"
  }
 },
 "nbformat": 4,
 "nbformat_minor": 0
}
